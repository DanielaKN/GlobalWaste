{
 "cells": [
  {
   "cell_type": "markdown",
   "id": "606c1777",
   "metadata": {},
   "source": [
    " # Data Science Tools and Ecosystem "
   ]
  },
  {
   "cell_type": "markdown",
   "id": "1ef86608",
   "metadata": {},
   "source": [
    "In this notebook, Data Science Tools and Ecosystem are summarized."
   ]
  },
  {
   "cell_type": "markdown",
   "id": "7b4cbed6",
   "metadata": {},
   "source": [
    " __Objectives:__"
   ]
  },
  {
   "cell_type": "markdown",
   "id": "bdc09fe0",
   "metadata": {},
   "source": [
    "List some of the popular languages that Data Scientists use are:"
   ]
  },
  {
   "cell_type": "markdown",
   "id": "2b516a4f",
   "metadata": {},
   "source": [
    " - Python"
   ]
  },
  {
   "cell_type": "markdown",
   "id": "b8374309",
   "metadata": {},
   "source": [
    " - R"
   ]
  },
  {
   "cell_type": "markdown",
   "id": "a28fed8f",
   "metadata": {},
   "source": [
    " - Statistica "
   ]
  },
  {
   "cell_type": "markdown",
   "id": "8173c594",
   "metadata": {},
   "source": [
    "List some of the commonly used libraries used by Data Scientists include:"
   ]
  },
  {
   "cell_type": "markdown",
   "id": "27c88781",
   "metadata": {},
   "source": [
    " 1. Pandas"
   ]
  },
  {
   "cell_type": "markdown",
   "id": "6e9b11a3",
   "metadata": {},
   "source": [
    " 2. Numpy"
   ]
  },
  {
   "cell_type": "markdown",
   "id": "efc343c8",
   "metadata": {},
   "source": [
    " 3. Matplotlib"
   ]
  },
  {
   "cell_type": "markdown",
   "id": "b0868506",
   "metadata": {},
   "source": [
    " 4. Seaborn"
   ]
  },
  {
   "cell_type": "markdown",
   "id": "6d6bbffa",
   "metadata": {},
   "source": [
    " |Data Science Tools|\n",
    " |:----------------:|\n",
    " |      Python      |\n",
    " |      GitHub      |\n",
    " |      R           |"
   ]
  },
  {
   "cell_type": "markdown",
   "id": "199c1843",
   "metadata": {},
   "source": [
    " ### Below are a few examples of evaluating arithmetic expressions in Python."
   ]
  },
  {
   "cell_type": "markdown",
   "id": "36412a97",
   "metadata": {},
   "source": [
    "This a simple arithmetic expression to mutiply then add integers."
   ]
  },
  {
   "cell_type": "code",
   "execution_count": 4,
   "id": "27a01fe8",
   "metadata": {},
   "outputs": [
    {
     "data": {
      "text/plain": [
       "17"
      ]
     },
     "execution_count": 4,
     "metadata": {},
     "output_type": "execute_result"
    }
   ],
   "source": [
    "(3*4)+5"
   ]
  },
  {
   "cell_type": "markdown",
   "id": "04289c56",
   "metadata": {},
   "source": [
    "This will convert 200 minutes to hours by diving by 60."
   ]
  },
  {
   "cell_type": "code",
   "execution_count": 6,
   "id": "8518a468",
   "metadata": {},
   "outputs": [
    {
     "data": {
      "text/plain": [
       "3.3333333333333335"
      ]
     },
     "execution_count": 6,
     "metadata": {},
     "output_type": "execute_result"
    }
   ],
   "source": [
    "200/60\n"
   ]
  },
  {
   "cell_type": "markdown",
   "id": "d500cbed",
   "metadata": {},
   "source": [
    "## Author:"
   ]
  },
  {
   "cell_type": "markdown",
   "id": "83baaaec",
   "metadata": {},
   "source": [
    "Daniela Knoll"
   ]
  },
  {
   "cell_type": "code",
   "execution_count": null,
   "id": "3fb642d9",
   "metadata": {},
   "outputs": [],
   "source": []
  },
  {
   "cell_type": "code",
   "execution_count": null,
   "id": "437f7fd9",
   "metadata": {},
   "outputs": [],
   "source": []
  }
 ],
 "metadata": {
  "kernelspec": {
   "display_name": "Python 3 (ipykernel)",
   "language": "python",
   "name": "python3"
  },
  "language_info": {
   "codemirror_mode": {
    "name": "ipython",
    "version": 3
   },
   "file_extension": ".py",
   "mimetype": "text/x-python",
   "name": "python",
   "nbconvert_exporter": "python",
   "pygments_lexer": "ipython3",
   "version": "3.9.13"
  }
 },
 "nbformat": 4,
 "nbformat_minor": 5
}
